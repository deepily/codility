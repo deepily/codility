{
 "cells": [
  {
   "cell_type": "markdown",
   "metadata": {},
   "source": [
    "### OddOccurrencesInArray\n",
    "\n",
    "Find value that occurs in odd number of elements.\n",
    "\n",
    "A non-empty array A consisting of N integers is given. The array contains an odd number of elements, and each element of the array can be paired with another element that has the same value, except for one element that is left unpaired.\n",
    "\n",
    "For example, in array A such that:\n",
    "  A[0] = 9  A[1] = 3  A[2] = 9\n",
    "  A[3] = 3  A[4] = 9  A[5] = 7\n",
    "  A[6] = 9\n",
    "\n",
    "        the elements at indexes 0 and 2 have value 9,\n",
    "        the elements at indexes 1 and 3 have value 3,\n",
    "        the elements at indexes 4 and 6 have value 9,\n",
    "        the element at index 5 has value 7 and is unpaired.\n",
    "\n",
    "Write a function:\n",
    "\n",
    "    def solution(A)\n",
    "\n",
    "that, given an array A consisting of N integers fulfilling the above conditions, returns the value of the unpaired element.\n",
    "\n",
    "For example, given array A such that:\n",
    "  A[0] = 9  A[1] = 3  A[2] = 9\n",
    "  A[3] = 3  A[4] = 9  A[5] = 7\n",
    "  A[6] = 9\n",
    "\n",
    "the function should return 7, as explained in the example above.\n",
    "\n",
    "Write an efficient algorithm for the following assumptions:\n",
    "\n",
    "        N is an odd integer within the range [1..1,000,000];\n",
    "        each element of array A is an integer within the range [1..1,000,000,000];\n",
    "        all but one of the values in A occur an even number of times.\n",
    "\n",
    "\n"
   ]
  },
  {
   "cell_type": "markdown",
   "metadata": {
    "collapsed": true
   },
   "source": [
    "### Count Occurences Using Dictionary"
   ]
  },
  {
   "cell_type": "code",
   "execution_count": 27,
   "metadata": {
    "collapsed": false
   },
   "outputs": [
    {
     "name": "stdout",
     "output_type": "stream",
     "text": [
      "key 3 is odd!\n"
     ]
    },
    {
     "data": {
      "text/plain": [
       "False"
      ]
     },
     "execution_count": 27,
     "metadata": {},
     "output_type": "execute_result"
    }
   ],
   "source": [
    "digits = [ 9, 3, 9, 3, 7, 1, 1, 1, 1, 5, 5, 7, 1, 1, 3, 3, 3 ]\n",
    "\n",
    "def get_odd_man_out( digits ):\n",
    "    \n",
    "    counts = dict()\n",
    "\n",
    "    for digit in digits:\n",
    "\n",
    "        # nice and simple: increment value returned\n",
    "        # from: https://stackoverflow.com/questions/1602934/check-if-a-given-key-already-exists-in-a-dictionary\n",
    "        counts[ digit ] = counts.get( digit, 0 ) + 1\n",
    "\n",
    "    counts        \n",
    "\n",
    "    for key in counts.keys():\n",
    "\n",
    "        # does current key return an odd value?\n",
    "        if counts[ key ] % 2 != 0:\n",
    "            print( \"key {} is odd!\".format( key ) )\n",
    "            return key\n",
    "\n",
    "    #print( \"No odds found?!?\" )\n",
    "    return None\n",
    "    \n",
    "omo = get_odd_man_out( digits ) \n",
    "omo == None"
   ]
  },
  {
   "cell_type": "code",
   "execution_count": null,
   "metadata": {
    "collapsed": true
   },
   "outputs": [],
   "source": []
  }
 ],
 "metadata": {
  "kernelspec": {
   "display_name": "Python 3",
   "language": "python",
   "name": "python3"
  },
  "language_info": {
   "codemirror_mode": {
    "name": "ipython",
    "version": 3
   },
   "file_extension": ".py",
   "mimetype": "text/x-python",
   "name": "python",
   "nbconvert_exporter": "python",
   "pygments_lexer": "ipython3",
   "version": "3.5.1"
  }
 },
 "nbformat": 4,
 "nbformat_minor": 0
}
