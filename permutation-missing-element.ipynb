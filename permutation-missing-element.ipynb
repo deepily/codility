{
 "cells": [
  {
   "cell_type": "markdown",
   "metadata": {},
   "source": [
    "### PermMissingElem\n",
    "\n",
    "Find the missing element in a given permutation.\n"
   ]
  },
  {
   "cell_type": "markdown",
   "metadata": {},
   "source": [
    "An array A consisting of N different integers is given. The array contains integers in the range [1..(N + 1)], which means that exactly one element is missing.\n",
    "\n",
    "Your goal is to find that missing element.\n",
    "\n",
    "Write a function:\n",
    "\n",
    "    def solution(A)\n",
    "\n",
    "that, given an array A, returns the value of the missing element.\n",
    "\n",
    "For example, given array A such that:\n",
    "  A[0] = 2\n",
    "  A[1] = 3\n",
    "  A[2] = 1\n",
    "  A[3] = 5\n",
    "\n",
    "the function should return 4, as it is the missing element.\n",
    "\n",
    "Write an efficient algorithm for the following assumptions:\n",
    "\n",
    "        N is an integer within the range [0..100,000];\n",
    "        the elements of A are all distinct;\n",
    "        each element of array A is an integer within the range [1..(N + 1)]"
   ]
  },
  {
   "cell_type": "code",
   "execution_count": 21,
   "metadata": {
    "collapsed": false
   },
   "outputs": [
    {
     "name": "stdout",
     "output_type": "stream",
     "text": [
      "4\n",
      "None\n"
     ]
    }
   ],
   "source": [
    "digits = [ 2, 3, 1, 5 ]\n",
    "\n",
    "# This solution only scores 50% (before adding 'len( A ) <= 1')\n",
    "# hint/answer can be found at the end of: https://codility.com/media/train/1-TimeComplexity.pdf\n",
    "def solution( A ): \n",
    "\n",
    "    # test for something to do\n",
    "    if ( len( A ) <= 1 ):\n",
    "        return None\n",
    "    \n",
    "    A.sort()\n",
    "\n",
    "    # snag first digit\n",
    "    digit_last = A[ 0 ]\n",
    "    \n",
    "    # iterate all but the 1st digits\n",
    "    for digit in A[ 1: ]:\n",
    "        \n",
    "        # is current digit one bigger than the last digit looked at?\n",
    "        if digit_last + 1 != digit:\n",
    "            return ( digit_last + 1 )\n",
    "        else:\n",
    "            digit_last = digit\n",
    "    else:\n",
    "        return None\n",
    "        \n",
    "print( solution( digits ) )\n",
    "print( solution( [ 1 ] ) )"
   ]
  },
  {
   "cell_type": "code",
   "execution_count": 20,
   "metadata": {
    "collapsed": false
   },
   "outputs": [
    {
     "data": {
      "text/plain": [
       "0"
      ]
     },
     "execution_count": 20,
     "metadata": {},
     "output_type": "execute_result"
    }
   ],
   "source": [
    "len( [] )"
   ]
  },
  {
   "cell_type": "code",
   "execution_count": null,
   "metadata": {
    "collapsed": true
   },
   "outputs": [],
   "source": []
  }
 ],
 "metadata": {
  "kernelspec": {
   "display_name": "Python 3",
   "language": "python",
   "name": "python3"
  },
  "language_info": {
   "codemirror_mode": {
    "name": "ipython",
    "version": 3
   },
   "file_extension": ".py",
   "mimetype": "text/x-python",
   "name": "python",
   "nbconvert_exporter": "python",
   "pygments_lexer": "ipython3",
   "version": "3.5.1"
  }
 },
 "nbformat": 4,
 "nbformat_minor": 0
}
