{
 "cells": [
  {
   "cell_type": "markdown",
   "metadata": {},
   "source": [
    "### TapeEquilibrium\n",
    "\n",
    "Minimize the value |(A[0] + ... + A[P-1]) - (A[P] + ... + A[N-1])|.\n",
    "\n",
    "\n",
    "\n",
    "A non-empty array A consisting of N integers is given. Array A represents numbers on a tape.\n",
    "\n",
    "Any integer P, such that 0 < P < N, splits this tape into two non-empty parts: A[0], A[1], ..., A[P − 1] and A[P], A[P + 1], ..., A[N − 1].\n",
    "\n",
    "The difference between the two parts is the value of: |(A[0] + A[1] + ... + A[P − 1]) − (A[P] + A[P + 1] + ... + A[N − 1])|\n",
    "\n",
    "In other words, it is the absolute difference between the sum of the first part and the sum of the second part.\n",
    "\n",
    "For example, consider array A such that:\n",
    "  A[0] = 3\n",
    "  A[1] = 1\n",
    "  A[2] = 2\n",
    "  A[3] = 4\n",
    "  A[4] = 3\n",
    "\n",
    "We can split this tape in four places:\n",
    "\n",
    "        P = 1, difference = |3 − 10| = 7\n",
    "        P = 2, difference = |4 − 9| = 5\n",
    "        P = 3, difference = |6 − 7| = 1\n",
    "        P = 4, difference = |10 − 3| = 7\n",
    "\n",
    "Write a function:\n",
    "\n",
    "    def solution(A)\n",
    "\n",
    "that, given a non-empty array A of N integers, returns the minimal difference that can be achieved.\n",
    "\n",
    "For example, given:\n",
    "  A[0] = 3\n",
    "  A[1] = 1\n",
    "  A[2] = 2\n",
    "  A[3] = 4\n",
    "  A[4] = 3\n",
    "\n",
    "the function should return 1, as explained above.\n",
    "\n",
    "Write an efficient algorithm for the following assumptions:\n",
    "\n",
    "        N is an integer within the range [2..100,000];\n",
    "        each element of array A is an integer within the range [−1,000..1,000].\n",
    "\n"
   ]
  },
  {
   "cell_type": "code",
   "execution_count": 60,
   "metadata": {
    "collapsed": false
   },
   "outputs": [
    {
     "name": "stdout",
     "output_type": "stream",
     "text": [
      "[] [3, 1, 2, 4, 3] 0.0 13 13.0\n",
      "[3] [1, 2, 4, 3] 3 10 7\n",
      "[3, 1] [2, 4, 3] 4 9 5\n",
      "[3, 1, 2] [4, 3] 6 7 1\n",
      "[3, 1, 2, 4] [3] 10 3 7\n",
      "[3, 1, 2, 4, 3] [] 13 0.0 13.0\n",
      "CPU times: user 571 µs, sys: 7 µs, total: 578 µs\n",
      "Wall time: 593 µs\n"
     ]
    },
    {
     "data": {
      "text/plain": [
       "1"
      ]
     },
     "execution_count": 60,
     "metadata": {},
     "output_type": "execute_result"
    }
   ],
   "source": [
    "import numpy as np\n",
    "\n",
    "def solutionB( A ):\n",
    "    \n",
    "    assert ( len( A ) >= 2 ), \"Input array is too small to calculate equilibrium!\"\n",
    "    \n",
    "    # biggest index is the len of the array\n",
    "    min_difference = np.sum( A )\n",
    "    abs_difference = 0\n",
    "    \n",
    "    for i in range( len( A ) + 1 ):\n",
    "        \n",
    "        print( list( A[ :i ] ), list( A[ i: ] ), np.sum( A[ :i ] ), np.sum( A[ i: ] ), abs( np.sum( A[ :i ] ) - np.sum( A[ i: ] ) ) )  \n",
    "        \n",
    "        # calculate diff: this isn't as efficient as calculating max, and decreasing it by next digit, while increasing left sum by one digit\n",
    "        abs_difference = abs( np.sum( A[ :i ] ) - np.sum( A[ i: ] ) )\n",
    "        \n",
    "        # track min diff\n",
    "        if abs_difference < min_difference:\n",
    "            min_difference = abs_difference\n",
    "    \n",
    "    #print( min_difference, min_index )\n",
    "    return min_difference\n",
    "\n",
    "#print( solutionB( range( 100 ) ) )\n",
    "\n",
    "#A = [ 3, 1, 2, 4, 3 ]\n",
    "%time solutionB( A )\n",
    "#%time solutionB( range( 10000 ) ) # 12.5 s\n"
   ]
  },
  {
   "cell_type": "markdown",
   "metadata": {},
   "source": [
    "### This Solution Only Scored 41% :-("
   ]
  },
  {
   "cell_type": "code",
   "execution_count": 61,
   "metadata": {
    "collapsed": false
   },
   "outputs": [
    {
     "name": "stdout",
     "output_type": "stream",
     "text": [
      "1 [3] [1, 2, 4, 3] 3 10 7\n",
      "2 [3, 1] [2, 4, 3] 4 9 5\n",
      "3 [3, 1, 2] [4, 3] 6 7 1\n",
      "4 [3, 1, 2, 4] [3] 10 3 7\n",
      "5 [3, 1, 2, 4, 3] [] 13 0 13\n",
      "CPU times: user 363 µs, sys: 1 µs, total: 364 µs\n",
      "Wall time: 372 µs\n"
     ]
    },
    {
     "data": {
      "text/plain": [
       "1"
      ]
     },
     "execution_count": 61,
     "metadata": {},
     "output_type": "execute_result"
    }
   ],
   "source": [
    "def solution( A ):\n",
    "    \n",
    "    assert ( len( A ) >= 2 ), \"Input array is too small to calculate equilibrium!\"\n",
    "    \n",
    "    # biggest dif is the sum of the entire array\n",
    "    sum_left = 0\n",
    "    sum_right = np.sum( A )\n",
    "    min_difference = sum_right\n",
    "    abs_difference = 0\n",
    "    \n",
    "    # we've already calculated split w/ 0 in sum_left, and all in sum_right...\n",
    "    # ...so start w/ 1st element in list\n",
    "    for i in range( 1, len( A ) + 1 ):\n",
    "        \n",
    "        # add to the left...\n",
    "        sum_left += A[ i - 1 ]\n",
    "        # ...subtract from the right\n",
    "        sum_right -= A[ i - 1 ]\n",
    "        \n",
    "        abs_difference = abs( sum_left - sum_right )\n",
    "        \n",
    "        print( i, list( A[ :i ] ), list( A[ i: ] ), sum_left, sum_right, abs_difference )  \n",
    "        \n",
    "        # track min diff\n",
    "        if abs_difference < min_difference:\n",
    "            min_difference = abs_difference\n",
    "            min_index = i\n",
    "        \n",
    "    return min_difference\n",
    "\n",
    "A = [ 3, 1, 2, 4, 3 ]\n",
    "%time solution( A )\n",
    "#%time solution( range( 10000 ) ) #12.7 ms: 1,000x faster than version B above"
   ]
  },
  {
   "cell_type": "code",
   "execution_count": 53,
   "metadata": {
    "collapsed": false
   },
   "outputs": [
    {
     "data": {
      "text/plain": [
       "3"
      ]
     },
     "execution_count": 53,
     "metadata": {},
     "output_type": "execute_result"
    }
   ],
   "source": [
    "solution( [3, 1, 2, 4, 3] )"
   ]
  },
  {
   "cell_type": "code",
   "execution_count": null,
   "metadata": {
    "collapsed": true
   },
   "outputs": [],
   "source": []
  }
 ],
 "metadata": {
  "kernelspec": {
   "display_name": "Python 3",
   "language": "python",
   "name": "python3"
  },
  "language_info": {
   "codemirror_mode": {
    "name": "ipython",
    "version": 3
   },
   "file_extension": ".py",
   "mimetype": "text/x-python",
   "name": "python",
   "nbconvert_exporter": "python",
   "pygments_lexer": "ipython3",
   "version": "3.5.1"
  }
 },
 "nbformat": 4,
 "nbformat_minor": 0
}
