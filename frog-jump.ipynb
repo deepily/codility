{
 "cells": [
  {
   "cell_type": "markdown",
   "metadata": {},
   "source": [
    "### FrogJmp\n",
    "\n",
    "Count minimal number of jumps from position X to Y.\n",
    "\n",
    "\n",
    "\n",
    "A small frog wants to get to the other side of the road. The frog is currently located at position X and wants to get to a position greater than or equal to Y. The small frog always jumps a fixed distance, D.\n",
    "\n",
    "Count the minimal number of jumps that the small frog must perform to reach its target.\n",
    "\n",
    "Write a function:\n",
    "\n",
    "    def solution(X, Y, D)\n",
    "\n",
    "that, given three integers X, Y and D, returns the minimal number of jumps from position X to a position equal to or greater than Y.\n",
    "\n",
    "For example, given:\n",
    "  X = 10\n",
    "  Y = 85\n",
    "  D = 30\n",
    "\n",
    "the function should return 3, because the frog will be positioned as follows:\n",
    "\n",
    "        after the first jump, at position 10 + 30 = 40\n",
    "        after the second jump, at position 10 + 30 + 30 = 70\n",
    "        after the third jump, at position 10 + 30 + 30 + 30 = 100\n",
    "\n",
    "Write an efficient algorithm for the following assumptions:\n",
    "\n",
    "        X, Y and D are integers within the range [1..1,000,000,000];\n",
    "        X ≤ Y.\n",
    "\n",
    "\n"
   ]
  },
  {
   "cell_type": "markdown",
   "metadata": {},
   "source": [
    "### Inefficient for Long Distances (Multiple Calcs to Arrive)"
   ]
  },
  {
   "cell_type": "code",
   "execution_count": null,
   "metadata": {
    "collapsed": false
   },
   "outputs": [],
   "source": [
    "def solutionA( X, Y, D ):\n",
    "    \n",
    "    if Y < X or D <= 0:\n",
    "        raise Exception(\"Invalid arguments\")\n",
    "        \n",
    "    jumps = 0\n",
    "    while X < Y:\n",
    "        \n",
    "        print( \"X before {}\".format( X ) )\n",
    "        X = X + D\n",
    "        jumps += 1\n",
    "        print( \"X after {}\".format( X ) )\n",
    "        \n",
    "    return jumps\n",
    "\n",
    "print( solutionA( 10, 85, 30 ) )\n",
    "solutionA( 10, 70, 15 )\n"
   ]
  },
  {
   "cell_type": "markdown",
   "metadata": {},
   "source": [
    "### More Efficient When Distance Is Large"
   ]
  },
  {
   "cell_type": "code",
   "execution_count": 9,
   "metadata": {
    "collapsed": false
   },
   "outputs": [
    {
     "name": "stdout",
     "output_type": "stream",
     "text": [
      "3\n"
     ]
    },
    {
     "data": {
      "text/plain": [
       "4"
      ]
     },
     "execution_count": 9,
     "metadata": {},
     "output_type": "execute_result"
    }
   ],
   "source": [
    "def solution( X, Y, D ):\n",
    "    \n",
    "    if Y < X or D <= 0:\n",
    "        raise Exception(\"Invalid arguments\")\n",
    "        \n",
    "    distance = Y - X\n",
    "    \n",
    "    # can we make it there, w/ no remainder or 'overage'?\n",
    "    if distance % D == 0:\n",
    "        return distance // D \n",
    "    else:\n",
    "        return ( distance // D ) + 1 \n",
    "\n",
    "print( solution( 10, 85, 30 ) )\n",
    "solution( 10, 70, 15 )"
   ]
  },
  {
   "cell_type": "code",
   "execution_count": null,
   "metadata": {
    "collapsed": true
   },
   "outputs": [],
   "source": []
  }
 ],
 "metadata": {
  "kernelspec": {
   "display_name": "Python 3",
   "language": "python",
   "name": "python3"
  },
  "language_info": {
   "codemirror_mode": {
    "name": "ipython",
    "version": 3
   },
   "file_extension": ".py",
   "mimetype": "text/x-python",
   "name": "python",
   "nbconvert_exporter": "python",
   "pygments_lexer": "ipython3",
   "version": "3.5.1"
  }
 },
 "nbformat": 4,
 "nbformat_minor": 0
}
